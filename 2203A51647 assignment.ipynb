{
  "nbformat": 4,
  "nbformat_minor": 0,
  "metadata": {
    "colab": {
      "provenance": []
    },
    "kernelspec": {
      "name": "python3",
      "display_name": "Python 3"
    },
    "language_info": {
      "name": "python"
    }
  },
  "cells": [
    {
      "cell_type": "code",
      "execution_count": 6,
      "metadata": {
        "id": "9PvaId-x86TU"
      },
      "outputs": [],
      "source": [
        "I=[2,3,4]"
      ]
    },
    {
      "cell_type": "code",
      "source": [
        "l=[5,6,7]"
      ],
      "metadata": {
        "id": "tKXDl6HV_1XF"
      },
      "execution_count": 7,
      "outputs": []
    },
    {
      "cell_type": "code",
      "source": [
        "import numpy as np"
      ],
      "metadata": {
        "id": "asNE2OAcAIOq"
      },
      "execution_count": 9,
      "outputs": []
    },
    {
      "cell_type": "code",
      "source": [
        "a=np.array(l)"
      ],
      "metadata": {
        "id": "yRPiCMNVAIL7"
      },
      "execution_count": 10,
      "outputs": []
    },
    {
      "cell_type": "code",
      "source": [
        "b=np.array(I)"
      ],
      "metadata": {
        "id": "0LHUlE5oAIJu"
      },
      "execution_count": 11,
      "outputs": []
    },
    {
      "cell_type": "code",
      "source": [
        "print(a+b)"
      ],
      "metadata": {
        "colab": {
          "base_uri": "https://localhost:8080/"
        },
        "id": "KNDiIAQS_7ir",
        "outputId": "92aaf69f-7102-4b71-b2bd-589945698584"
      },
      "execution_count": 12,
      "outputs": [
        {
          "output_type": "stream",
          "name": "stdout",
          "text": [
            "[ 7  9 11]\n"
          ]
        }
      ]
    },
    {
      "cell_type": "code",
      "source": [
        "print(a*b)"
      ],
      "metadata": {
        "colab": {
          "base_uri": "https://localhost:8080/"
        },
        "id": "IHRBF17nAeM8",
        "outputId": "44925ba6-f133-4bf1-b9a0-f2e74235d238"
      },
      "execution_count": 13,
      "outputs": [
        {
          "output_type": "stream",
          "name": "stdout",
          "text": [
            "[10 18 28]\n"
          ]
        }
      ]
    },
    {
      "cell_type": "code",
      "source": [
        "print(np.sin(1))"
      ],
      "metadata": {
        "colab": {
          "base_uri": "https://localhost:8080/"
        },
        "id": "jhZi2uP1Be8T",
        "outputId": "1bdb2a34-d91a-4220-83bd-071d713d1c5c"
      },
      "execution_count": 14,
      "outputs": [
        {
          "output_type": "stream",
          "name": "stdout",
          "text": [
            "0.8414709848078965\n"
          ]
        }
      ]
    },
    {
      "cell_type": "code",
      "source": [
        "print(type(I))\n",
        "print(type(l))"
      ],
      "metadata": {
        "colab": {
          "base_uri": "https://localhost:8080/"
        },
        "id": "czDh_OaSEy_9",
        "outputId": "67cc6d93-907c-4977-e5df-d5367f6505d2"
      },
      "execution_count": 16,
      "outputs": [
        {
          "output_type": "stream",
          "name": "stdout",
          "text": [
            "<class 'list'>\n",
            "<class 'list'>\n"
          ]
        }
      ]
    },
    {
      "cell_type": "code",
      "source": [
        "print(np.log(30))"
      ],
      "metadata": {
        "colab": {
          "base_uri": "https://localhost:8080/"
        },
        "id": "kwa2L5iMHtKk",
        "outputId": "4487054e-6330-4632-9eea-8b4868b9692b"
      },
      "execution_count": 18,
      "outputs": [
        {
          "output_type": "stream",
          "name": "stdout",
          "text": [
            "3.4011973816621555\n"
          ]
        }
      ]
    },
    {
      "cell_type": "code",
      "source": [
        "print(np.log(5))"
      ],
      "metadata": {
        "colab": {
          "base_uri": "https://localhost:8080/"
        },
        "id": "d8RWpchzH-5z",
        "outputId": "983ff582-b435-4eab-c92d-4816c99375d0"
      },
      "execution_count": 19,
      "outputs": [
        {
          "output_type": "stream",
          "name": "stdout",
          "text": [
            "1.6094379124341003\n"
          ]
        }
      ]
    },
    {
      "cell_type": "code",
      "source": [
        "print(np.log2(5))"
      ],
      "metadata": {
        "colab": {
          "base_uri": "https://localhost:8080/"
        },
        "id": "hsSDu7JnIHyb",
        "outputId": "2c32b1f2-3362-4702-8f7d-d47fbd935f1b"
      },
      "execution_count": 20,
      "outputs": [
        {
          "output_type": "stream",
          "name": "stdout",
          "text": [
            "2.321928094887362\n"
          ]
        }
      ]
    },
    {
      "cell_type": "code",
      "source": [
        "print(np.exp(33))"
      ],
      "metadata": {
        "colab": {
          "base_uri": "https://localhost:8080/"
        },
        "id": "Y5eNeAzpITol",
        "outputId": "bf56e50e-81b7-44df-ebee-901fc1a15f4e"
      },
      "execution_count": 21,
      "outputs": [
        {
          "output_type": "stream",
          "name": "stdout",
          "text": [
            "214643579785916.06\n"
          ]
        }
      ]
    },
    {
      "cell_type": "code",
      "source": [
        "# given dataset\n",
        "name=['akshay','balaji','abhilash']\n",
        "age=[20,25,30,35]\n",
        "height=[145,150,165,170]\n",
        "weight=[45,55,65,75]"
      ],
      "metadata": {
        "id": "zHrx3BmtIbpi"
      },
      "execution_count": 22,
      "outputs": []
    },
    {
      "cell_type": "code",
      "source": [
        "import matplotlib.pyplot as plt"
      ],
      "metadata": {
        "id": "4VWk72DUKFfz"
      },
      "execution_count": 23,
      "outputs": []
    },
    {
      "cell_type": "code",
      "source": [
        "plt.title(\"this is graph\")\n",
        "plt.xlabel(\"age\")\n",
        "plt.ylabel(\"height\")\n",
        "plt.plot(age,height)"
      ],
      "metadata": {
        "colab": {
          "base_uri": "https://localhost:8080/",
          "height": 489
        },
        "id": "vuv3KSMhKOnA",
        "outputId": "3a8e156b-0e4d-43b0-f078-87ae509988ec"
      },
      "execution_count": 24,
      "outputs": [
        {
          "output_type": "execute_result",
          "data": {
            "text/plain": [
              "[<matplotlib.lines.Line2D at 0x7d7afbe368c0>]"
            ]
          },
          "metadata": {},
          "execution_count": 24
        },
        {
          "output_type": "display_data",
          "data": {
            "text/plain": [
              "<Figure size 640x480 with 1 Axes>"
            ],
            "image/png": "[encoded data removed]"
          },
          "metadata": {}
        }
      ]
    },
    {
      "cell_type": "code",
      "source": [
        "plt.title(\"this is graph\")\n",
        "plt.xlabel(\"age\")\n",
        "plt.pie(age)"
      ],
      "metadata": {
        "colab": {
          "base_uri": "https://localhost:8080/",
          "height": 587
        },
        "id": "G0Nkw3nqKvFD",
        "outputId": "3dfa8ea7-2b11-481f-b920-9be86b968349"
      },
      "execution_count": 25,
      "outputs": [
        {
          "output_type": "execute_result",
          "data": {
            "text/plain": [
              "([<matplotlib.patches.Wedge at 0x7d7afbfec7f0>,\n",
              "  <matplotlib.patches.Wedge at 0x7d7afbf00d30>,\n",
              "  <matplotlib.patches.Wedge at 0x7d7afbfedf90>,\n",
              "  <matplotlib.patches.Wedge at 0x7d7afbfed840>],\n",
              " [Text(0.9253788759906099, 0.5947049149539254, ''),\n",
              "  Text(-0.3099058709178122, 1.0554422538304369, ''),\n",
              "  Text(-1.055442239322695, -0.30990592032662945, ''),\n",
              "  Text(0.5947050015941456, -0.9253788203103135, '')])"
            ]
          },
          "metadata": {},
          "execution_count": 25
        },
        {
          "output_type": "display_data",
          "data": {
            "text/plain": [
              "<Figure size 640x480 with 1 Axes>"
            ],
            "image/png": "[encoded data removed]"
          },
          "metadata": {}
        }
      ]
    },
    {
      "cell_type": "code",
      "source": [
        "plt.title(\"this is graph\")\n",
        "plt.ylabel(\"height\")\n",
        "plt.pie(height)"
      ],
      "metadata": {
        "colab": {
          "base_uri": "https://localhost:8080/",
          "height": 567
        },
        "id": "WnFy5rbsK-lg",
        "outputId": "1c412075-2d4f-4c18-9189-8130653634b2"
      },
      "execution_count": 26,
      "outputs": [
        {
          "output_type": "execute_result",
          "data": {
            "text/plain": [
              "([<matplotlib.patches.Wedge at 0x7d7afbe4e650>,\n",
              "  <matplotlib.patches.Wedge at 0x7d7afbdfda20>,\n",
              "  <matplotlib.patches.Wedge at 0x7d7afbe4ca60>,\n",
              "  <matplotlib.patches.Wedge at 0x7d7afbe4c940>],\n",
              " [Text(0.8247593205602756, 0.7278544244208128, ''),\n",
              "  Text(-0.6421180480858357, 0.893131800084644, ''),\n",
              "  Text(-0.8931317700249279, -0.6421180898963519, ''),\n",
              "  Text(0.7278545402501165, -0.8247592183402934, '')])"
            ]
          },
          "metadata": {},
          "execution_count": 26
        },
        {
          "output_type": "display_data",
          "data": {
            "text/plain": [
              "<Figure size 640x480 with 1 Axes>"
            ],
            "image/png": "[encoded data removed]"
          },
          "metadata": {}
        }
      ]
    },
    {
      "cell_type": "code",
      "source": [
        "import pandas as pd\n",
        "\n",
        "df=pd.read_csv('/content/sample_data/california_housing_train.csv')\n",
        "\n",
        "print(df.head())"
      ],
      "metadata": {
        "colab": {
          "base_uri": "https://localhost:8080/"
        },
        "id": "qKLrWclfMQfI",
        "outputId": "85e9f0ee-d7e0-47ac-ff1f-bd02a5b8ddd0"
      },
      "execution_count": 27,
      "outputs": [
        {
          "output_type": "stream",
          "name": "stdout",
          "text": [
            "   longitude  latitude  housing_median_age  total_rooms  total_bedrooms  \\\n",
            "0    -114.31     34.19                15.0       5612.0          1283.0   \n",
            "1    -114.47     34.40                19.0       7650.0          1901.0   \n",
            "2    -114.56     33.69                17.0        720.0           174.0   \n",
            "3    -114.57     33.64                14.0       1501.0           337.0   \n",
            "4    -114.57     33.57                20.0       1454.0           326.0   \n",
            "\n",
            "   population  households  median_income  median_house_value  \n",
            "0      1015.0       472.0         1.4936             66900.0  \n",
            "1      1129.0       463.0         1.8200             80100.0  \n",
            "2       333.0       117.0         1.6509             85700.0  \n",
            "3       515.0       226.0         3.1917             73400.0  \n",
            "4       624.0       262.0         1.9250             65500.0  \n"
          ]
        }
      ]
    }
  ]
}